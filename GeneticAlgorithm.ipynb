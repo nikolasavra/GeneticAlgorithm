{
 "cells": [
  {
   "cell_type": "code",
   "execution_count": null,
   "metadata": {},
   "outputs": [],
   "source": [
    "import pandas as pd\n",
    "from sklearn.feature_extraction.text import CountVectorizer\n",
    "from sklearn.feature_extraction.text import TfidfVectorizer\n",
    "import re\n",
    "from numpy.random import randint\n",
    "from numpy.random import rand\n",
    "import numpy as np\n",
    "\n",
    "pd.options.display.max_columns = 30\n",
    "%matplotlib inline"
   ]
  },
  {
   "cell_type": "markdown",
   "metadata": {},
   "source": [
    "### TF-IDF Vector"
   ]
  },
  {
   "cell_type": "code",
   "execution_count": null,
   "metadata": {},
   "outputs": [],
   "source": [
    "list = []"
   ]
  },
  {
   "cell_type": "code",
   "execution_count": null,
   "metadata": {},
   "outputs": [],
   "source": [
    "#Reading our data\n",
    "infile = open('train-data_new.dat', 'r')\n",
    "lines = infile.readlines()\n",
    "infile.close()\n",
    "\n",
    "for str in lines:\n",
    "    list.append(str)\n",
    "    "
   ]
  },
  {
   "cell_type": "code",
   "execution_count": null,
   "metadata": {},
   "outputs": [],
   "source": [
    "new_list = [s.replace(\"\\n\", \"\").strip() for s in list]"
   ]
  },
  {
   "cell_type": "code",
   "execution_count": null,
   "metadata": {},
   "outputs": [],
   "source": [
    "new_list[0]"
   ]
  },
  {
   "cell_type": "code",
   "execution_count": null,
   "metadata": {},
   "outputs": [],
   "source": [
    "count_vectorizer = CountVectorizer()"
   ]
  },
  {
   "cell_type": "code",
   "execution_count": null,
   "metadata": {},
   "outputs": [],
   "source": [
    "# .fit_transform TOKENIZES and COUNTS\n",
    "X = count_vectorizer.fit_transform(new_list)"
   ]
  },
  {
   "cell_type": "code",
   "execution_count": null,
   "metadata": {},
   "outputs": [],
   "source": [
    "X"
   ]
  },
  {
   "cell_type": "code",
   "execution_count": null,
   "metadata": {},
   "outputs": [],
   "source": [
    "X.toarray()"
   ]
  },
  {
   "cell_type": "code",
   "execution_count": null,
   "metadata": {},
   "outputs": [],
   "source": [
    "pd.DataFrame(X.toarray())"
   ]
  },
  {
   "cell_type": "code",
   "execution_count": null,
   "metadata": {},
   "outputs": [],
   "source": [
    "count_vectorizer.get_feature_names()"
   ]
  },
  {
   "cell_type": "code",
   "execution_count": null,
   "metadata": {},
   "outputs": [],
   "source": [
    "pd.DataFrame(X.toarray(), columns=count_vectorizer.get_feature_names())"
   ]
  },
  {
   "cell_type": "code",
   "execution_count": null,
   "metadata": {},
   "outputs": [],
   "source": [
    "#tf values\n",
    "tfidf_vectorizer = TfidfVectorizer(stop_words='english',use_idf=False)\n",
    "X = tfidf_vectorizer.fit_transform(new_list)\n",
    "tf = pd.DataFrame(X.toarray(), columns=tfidf_vectorizer.get_feature_names())"
   ]
  },
  {
   "cell_type": "code",
   "execution_count": null,
   "metadata": {},
   "outputs": [],
   "source": [
    "#idf values\n",
    "# use_idf=True is default\n",
    "idf_vectorizer = TfidfVectorizer(stop_words='english', use_idf=True)\n",
    "X = idf_vectorizer.fit_transform(new_list)\n",
    "idf_df = pd.DataFrame(X.toarray(), columns=idf_vectorizer.get_feature_names())\n",
    "idf_df"
   ]
  },
  {
   "cell_type": "code",
   "execution_count": null,
   "metadata": {},
   "outputs": [],
   "source": [
    "#just a check for specific values\n",
    "tf['674'], idf_df['674']"
   ]
  },
  {
   "cell_type": "code",
   "execution_count": null,
   "metadata": {},
   "outputs": [],
   "source": [
    "# Multiply two DataFrames to make the tfidf values\n",
    "\n",
    "tfidf = tf.mul(idf_df);\n",
    "print(tfidf);"
   ]
  },
  {
   "cell_type": "code",
   "execution_count": null,
   "metadata": {},
   "outputs": [],
   "source": [
    "#check\n",
    "tfidf[\"674\"]"
   ]
  },
  {
   "cell_type": "code",
   "execution_count": null,
   "metadata": {},
   "outputs": [],
   "source": [
    "#mean tfidf value for every single word\n",
    "tfidf = tfidf.mean()"
   ]
  },
  {
   "cell_type": "code",
   "execution_count": null,
   "metadata": {},
   "outputs": [],
   "source": [
    "tfidf"
   ]
  },
  {
   "cell_type": "code",
   "execution_count": null,
   "metadata": {},
   "outputs": [],
   "source": [
    "#turning it into DataFrame\n",
    "tfidf_df = pd.DataFrame([tfidf])"
   ]
  },
  {
   "cell_type": "code",
   "execution_count": null,
   "metadata": {},
   "outputs": [],
   "source": [
    "tfidf_df = tfidf_df*100000\n",
    "tfidf_df"
   ]
  },
  {
   "cell_type": "markdown",
   "metadata": {},
   "source": [
    "### Initial Population"
   ]
  },
  {
   "cell_type": "code",
   "execution_count": null,
   "metadata": {},
   "outputs": [],
   "source": [
    "n_pop = 20"
   ]
  },
  {
   "cell_type": "code",
   "execution_count": null,
   "metadata": {},
   "outputs": [],
   "source": [
    "n_bits = 8510"
   ]
  },
  {
   "cell_type": "code",
   "execution_count": null,
   "metadata": {},
   "outputs": [],
   "source": [
    "#Creating 4 smaller populations with different probabilities to get various chromosomes\n",
    "pop1 = [np.random.choice(np.arange(0, 2), p=[0.8, 0.2], size=n_bits).tolist() for _ in range(int(n_pop/4))]\n",
    "pop2 = [np.random.choice(np.arange(0, 2), p=[0.6, 0.4], size=n_bits).tolist() for _ in range(int(n_pop/4))]\n",
    "pop3 = [np.random.choice(np.arange(0, 2), p=[0.9, 0.1], size=n_bits).tolist() for _ in range(int(n_pop/4))]\n",
    "pop4 = [np.random.choice(np.arange(0, 2), p=[0.7, 0.3], size=n_bits).tolist() for _ in range(int(n_pop/4))]"
   ]
  },
  {
   "cell_type": "code",
   "execution_count": null,
   "metadata": {},
   "outputs": [],
   "source": [
    "pop = pop1 + pop2 + pop3 + pop4"
   ]
  },
  {
   "cell_type": "code",
   "execution_count": null,
   "metadata": {},
   "outputs": [],
   "source": [
    "pop"
   ]
  },
  {
   "cell_type": "code",
   "execution_count": null,
   "metadata": {},
   "outputs": [],
   "source": [
    "pop_df = pd.DataFrame(pop, columns=idf_vectorizer.get_feature_names())"
   ]
  },
  {
   "cell_type": "code",
   "execution_count": null,
   "metadata": {},
   "outputs": [],
   "source": [
    "pop_df"
   ]
  },
  {
   "cell_type": "code",
   "execution_count": null,
   "metadata": {},
   "outputs": [],
   "source": [
    "#Changing the value of every selected word from 1 to its tfidf value\n",
    "tfidf_values = pd.DataFrame(columns=idf_vectorizer.get_feature_names());\n",
    "    \n",
    "for i in range(len(pop_df)) :\n",
    "    tfidf_values = tfidf_values.append(pop_df.iloc[i,:]*tfidf_df)"
   ]
  },
  {
   "cell_type": "code",
   "execution_count": null,
   "metadata": {},
   "outputs": [],
   "source": [
    "tfidf_values"
   ]
  },
  {
   "cell_type": "code",
   "execution_count": null,
   "metadata": {},
   "outputs": [],
   "source": [
    "#Mean tfidf value of all selected words for every chromosome\n",
    "tfidf_mean = tfidf_values.sum(axis = 1)\n",
    "tfidf_mean = tfidf_mean/(tfidf_values > 0).sum(axis = 1)\n",
    "tfidf_mean"
   ]
  },
  {
   "cell_type": "code",
   "execution_count": null,
   "metadata": {},
   "outputs": [],
   "source": [
    "selected_words = (tfidf_values > 0).sum(axis = 1)\n",
    "selected_words"
   ]
  },
  {
   "cell_type": "markdown",
   "metadata": {},
   "source": [
    "#### Penalty Function"
   ]
  },
  {
   "cell_type": "code",
   "execution_count": null,
   "metadata": {},
   "outputs": [],
   "source": [
    "def penalty(x):\n",
    "        return (abs(x-1000)/100)"
   ]
  },
  {
   "cell_type": "code",
   "execution_count": null,
   "metadata": {},
   "outputs": [],
   "source": [
    "for s in selected_words:\n",
    "    print(format(penalty(s), \".3f\"))"
   ]
  },
  {
   "cell_type": "code",
   "execution_count": null,
   "metadata": {},
   "outputs": [],
   "source": [
    "s1 = pd.Series(selected_words, name='selected_words')\n",
    "\n",
    "s2 = pd.Series(tfidf_mean, name='tfidf')\n",
    "\n",
    "final = pd.concat([s1, s2], axis=1)\n",
    "final = final.reset_index()\n",
    "final = final.drop('index', 1)\n",
    "final"
   ]
  },
  {
   "cell_type": "markdown",
   "metadata": {},
   "source": [
    "#### Fitness Function"
   ]
  },
  {
   "cell_type": "code",
   "execution_count": null,
   "metadata": {},
   "outputs": [],
   "source": [
    "def fitness(df):\n",
    "    x = []\n",
    "    for i in range(len(df)) :\n",
    "        if df.iloc[i,0] < 1000:\n",
    "            x.append([0])\n",
    "        else:\n",
    "            x.append([df.iloc[i,1]**2 - penalty(df.iloc[i,0])])\n",
    "    return pd.DataFrame(x, columns = ['fit'])"
   ]
  },
  {
   "cell_type": "code",
   "execution_count": null,
   "metadata": {},
   "outputs": [],
   "source": [
    "fitness(final)"
   ]
  },
  {
   "cell_type": "markdown",
   "metadata": {},
   "source": [
    "### Selection Function / Roulette Wheel"
   ]
  },
  {
   "cell_type": "code",
   "execution_count": null,
   "metadata": {},
   "outputs": [],
   "source": [
    "def roulette_wheel_selection(population):\n",
    "\n",
    "    # Computes the totallity of the population fitness\n",
    "    population_fitness = fitness(population).sum()\n",
    "    \n",
    "    chromosome_probabilities = pd.DataFrame()\n",
    "    x = fitness(population)\n",
    "    \n",
    "    # Computes for each chromosome the probability \n",
    "    for row in x.itertuples():\n",
    "        chromosome_probabilities = chromosome_probabilities.append(row.fit/population_fitness, ignore_index=True)\n",
    "    \n",
    "    chromosome_probabilities.rename(columns = {'fit':'Prob'}, inplace = True)\n",
    "    #np.random.choice(np.arange(0, len(population)), p=[chromosome_probabilities.iloc[:,0].values])\n",
    "    # Returns the probabilities for every chromosome in the roulette\n",
    "    return chromosome_probabilities"
   ]
  },
  {
   "cell_type": "code",
   "execution_count": null,
   "metadata": {},
   "outputs": [],
   "source": [
    "#np.random.choice(np.arange(0, len(final)), p=[x.iloc[:,0].values])\n",
    "#x = roulette_wheel_selection(final)\n",
    "#np.array(x.iloc[:,0].values)"
   ]
  },
  {
   "cell_type": "code",
   "execution_count": null,
   "metadata": {},
   "outputs": [],
   "source": [
    "roulette_wheel_selection(final).sum()"
   ]
  },
  {
   "cell_type": "markdown",
   "metadata": {},
   "source": [
    "### Crossover Function / Single Point"
   ]
  },
  {
   "cell_type": "code",
   "execution_count": null,
   "metadata": {},
   "outputs": [],
   "source": [
    "# crossover two parents to create two children\n",
    "def crossover(p1, p2, r_cross):\n",
    "    # children are copies of parents by default\n",
    "    c1, c2 = p1.copy(), p2.copy()\n",
    "    # check for recombination\n",
    "    if rand() < r_cross:\n",
    "        pt = randint(1, len(p1)-2)\n",
    "        # perform crossover\n",
    "        c1 = p1[:pt] + p2[pt:]\n",
    "        c2 = p2[:pt] + p1[pt:]\n",
    "    return [c1, c2]"
   ]
  },
  {
   "cell_type": "markdown",
   "metadata": {},
   "source": [
    "### Mutation Function"
   ]
  },
  {
   "cell_type": "code",
   "execution_count": null,
   "metadata": {},
   "outputs": [],
   "source": [
    "# mutation operator\n",
    "def mutation(bitstring, r_mut):\n",
    "    for i in range(len(bitstring)):\n",
    "        # check for a mutation\n",
    "        if rand() < r_mut:\n",
    "            # flip the bit\n",
    "            bitstring[i] = 1 - bitstring[i]\n"
   ]
  },
  {
   "cell_type": "markdown",
   "metadata": {},
   "source": [
    "### GA IMPLEMENTATION-NOT FINISHED"
   ]
  },
  {
   "cell_type": "code",
   "execution_count": null,
   "metadata": {},
   "outputs": [],
   "source": [
    "# genetic algorithm\n",
    "def genetic_algorithm(objective, n_bits, n_iter, n_pop, r_cross, r_mut):\n",
    "    # initial population of random bitstring\n",
    "    pop1 = [np.random.choice(np.arange(0, 2), p=[0.8, 0.2], size=n_bits).tolist() for _ in range(int(n_pop/4))]\n",
    "    pop2 = [np.random.choice(np.arange(0, 2), p=[0.6, 0.4], size=n_bits).tolist() for _ in range(int(n_pop/4))]\n",
    "    pop3 = [np.random.choice(np.arange(0, 2), p=[0.9, 0.1], size=n_bits).tolist() for _ in range(int(n_pop/4))]\n",
    "    pop4 = [np.random.choice(np.arange(0, 2), p=[0.7, 0.3], size=n_bits).tolist() for _ in range(int(n_pop/4))]\n",
    "    pop = pop1 + pop2 + pop3 + pop4\n",
    "    pop_df = pd.DataFrame(pop, columns=idf_vectorizer.get_feature_names())\n",
    "    \n",
    "    # keep track of best solution\n",
    "    best, best_eval = 0, objective(pop_df[0])\n",
    "    # enumerate generations\n",
    "    for gen in range(n_iter):\n",
    "        # evaluate all candidates in the population\n",
    "        scores = [objective(c) for c in pop_df]\n",
    "        # check for new best solution\n",
    "        for i in range(n_pop):\n",
    "            if scores[i] < best_eval:\n",
    "                best, best_eval = pop_df[i], scores[i]\n",
    "                print(\">%d, new best f(%s) = %.3f\" % (gen,  pop_df[i], scores[i]))\n",
    "        # select parents\n",
    "        selected = [roulette_wheel_selection(pop_df, scores) for _ in range(n_pop)]\n",
    "        # create the next generation\n",
    "        children = list()\n",
    "        for i in range(0, n_pop, 2):\n",
    "            # get selected parents in pairs\n",
    "            p1, p2 = selected[i], selected[i+1]\n",
    "            # crossover and mutation\n",
    "            for c in crossover(p1, p2, r_cross):\n",
    "                # mutation\n",
    "                mutation(c, r_mut)\n",
    "                # store for next generation\n",
    "                children.append(c)\n",
    "        # replace population\n",
    "        pop_df = children\n",
    "    return [best, best_eval]\n"
   ]
  },
  {
   "cell_type": "code",
   "execution_count": null,
   "metadata": {},
   "outputs": [],
   "source": [
    "# define the total iterations\n",
    "n_iter = 100\n",
    "# bits\n",
    "n_bits = 8510\n",
    "# define the population size\n",
    "n_pop = 20\n",
    "# crossover rate\n",
    "r_cross = 0.9\n",
    "# mutation rate\n",
    "r_mut = 1.0 / float(n_bits)\n",
    "# perform the genetic algorithm search\n",
    "best, score = genetic_algorithm(penalty, n_bits, n_iter, n_pop, r_cross, r_mut)\n",
    "print('Done!')\n",
    "print('f(%s) = %f' % (best, score))"
   ]
  },
  {
   "cell_type": "code",
   "execution_count": null,
   "metadata": {},
   "outputs": [],
   "source": []
  }
 ],
 "metadata": {
  "kernelspec": {
   "display_name": "Python 3",
   "language": "python",
   "name": "python3"
  },
  "language_info": {
   "codemirror_mode": {
    "name": "ipython",
    "version": 3
   },
   "file_extension": ".py",
   "mimetype": "text/x-python",
   "name": "python",
   "nbconvert_exporter": "python",
   "pygments_lexer": "ipython3",
   "version": "3.8.5"
  }
 },
 "nbformat": 4,
 "nbformat_minor": 4
}
